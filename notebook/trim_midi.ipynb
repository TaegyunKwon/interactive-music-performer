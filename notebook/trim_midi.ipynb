{
 "cells": [
  {
   "cell_type": "code",
   "execution_count": 14,
   "metadata": {},
   "outputs": [],
   "source": [
    "import pretty_midi\n",
    "import mido\n",
    "\n",
    "from pathlib import Path"
   ]
  },
  {
   "cell_type": "code",
   "execution_count": 19,
   "metadata": {},
   "outputs": [],
   "source": [
    "midi_root = Path('../resources/midi/subpieces/change')\n",
    "midi_tar = Path('../resources/midi/subpieces/back_0415')\n",
    "\n",
    "midi_files = list((midi_root).glob('*.mid'))\n",
    "midi_files_org = list((midi_tar).glob('*.mid'))"
   ]
  },
  {
   "cell_type": "code",
   "execution_count": 3,
   "metadata": {},
   "outputs": [],
   "source": [
    "for midi_file in midi_files:\n",
    "    mid_obj = pretty_midi.PrettyMIDI(midi_file.as_posix())\n",
    "    notes = mid_obj.instruments[0].notes\n",
    "    first_onset = min([el.start for el in notes])\n",
    "    new_inst = pretty_midi.Instrument(program=0)\n",
    "    for note in notes:\n",
    "        note.start -= first_onset\n",
    "        note.end -= first_onset\n",
    "        new_inst.notes.append(note)\n",
    "    for note in mid_obj.instruments[0].control_changes:\n",
    "        note.time -= first_onset\n",
    "        new_inst.control_changes.append(note)\n",
    "    new_obj = pretty_midi.PrettyMIDI()\n",
    "    new_obj.instruments.append(new_inst)\n",
    "    new_obj.write((midi_tar / midi_file.name).as_posix())\n",
    "        "
   ]
  },
  {
   "cell_type": "code",
   "execution_count": 43,
   "metadata": {},
   "outputs": [],
   "source": [
    "midi_file = midi_files_org[0]\n",
    "mid_obj = pretty_midi.PrettyMIDI(midi_file.as_posix())\n",
    "new_mid_obj = mid_obj\n",
    "for note in new_mid_obj.instruments[0].notes:\n",
    "    note.velocity += 15\n",
    "new_mid_obj.write((Path('../resources/midi/subpieces') / midi_file.name).as_posix())\n",
    "        "
   ]
  },
  {
   "cell_type": "code",
   "execution_count": 34,
   "metadata": {},
   "outputs": [],
   "source": [
    "midi_file = midi_files_org[1]\n",
    "mid_obj = pretty_midi.PrettyMIDI(midi_file.as_posix())\n",
    "new_mid_obj = mid_obj\n",
    "# new_mid_obj.instruments[0].notes[:]\n",
    "new_mid_obj.instruments[0].control_changes[-1].time = 1.8\n",
    "new_mid_obj.write((Path('../resources/midi/subpieces') / midi_file.name).as_posix())\n",
    "        "
   ]
  },
  {
   "cell_type": "code",
   "execution_count": 36,
   "metadata": {},
   "outputs": [
    {
     "data": {
      "text/plain": [
       "PosixPath('../resources/midi/subpieces/back_0415/Haydn_Hob.XVI34_3-19.mid')"
      ]
     },
     "execution_count": 36,
     "metadata": {},
     "output_type": "execute_result"
    }
   ],
   "source": [
    "midi_file"
   ]
  },
  {
   "cell_type": "code",
   "execution_count": 40,
   "metadata": {},
   "outputs": [],
   "source": [
    "new_mid_obj.instruments[0].control_changes[-1].time = 1.2\n",
    "new_mid_obj.write((Path('../resources/midi/subpieces') / midi_file.name).as_posix())"
   ]
  },
  {
   "cell_type": "code",
   "execution_count": 16,
   "metadata": {},
   "outputs": [
    {
     "name": "stdout",
     "output_type": "stream",
     "text": [
      "Haydn_Hob.XVI34_3-17.mid\n",
      "Haydn_Hob.XVI34_3-19.mid\n"
     ]
    }
   ],
   "source": [
    "for midi_file in midi_files:\n",
    "    mid_obj = mido.MidiFile(midi_file.as_posix())\n",
    "    new_mid = mid_obj\n",
    "    new_mid.ticks_per_beat = 220\n",
    "\n",
    "    new_mid.save((Path('../resources/midi/subpieces') / midi_file.name).as_posix())\n",
    "    print(midi_file.name)\n",
    "    # new_obj.write((Path('../resources/midi/subpieces') / midi_file.name).as_posix())\n",
    "        "
   ]
  },
  {
   "cell_type": "code",
   "execution_count": 6,
   "metadata": {},
   "outputs": [
    {
     "name": "stdout",
     "output_type": "stream",
     "text": [
      "/Users/june/workspace/interactive-music-performer/notebook\n"
     ]
    }
   ],
   "source": [
    "!pwd"
   ]
  },
  {
   "cell_type": "code",
   "execution_count": 4,
   "metadata": {},
   "outputs": [],
   "source": [
    "mid_obj = pretty_midi.PrettyMIDI(midi_files[0].as_posix())"
   ]
  },
  {
   "cell_type": "code",
   "execution_count": 13,
   "metadata": {},
   "outputs": [
    {
     "name": "stdout",
     "output_type": "stream",
     "text": [
      "180\n"
     ]
    }
   ],
   "source": [
    "mid_obj = mido.MidiFile(midi_files[0].as_posix())\n",
    "print(mid_obj.ticks_per_beat)"
   ]
  },
  {
   "cell_type": "code",
   "execution_count": 9,
   "metadata": {},
   "outputs": [
    {
     "name": "stdout",
     "output_type": "stream",
     "text": [
      "220\n"
     ]
    }
   ],
   "source": [
    "mid_obj = mido.MidiFile(midi_files_org[0].as_posix())\n",
    "print(mid_obj.ticks_per_beat)"
   ]
  },
  {
   "cell_type": "code",
   "execution_count": null,
   "metadata": {},
   "outputs": [],
   "source": [
    "mid"
   ]
  },
  {
   "cell_type": "code",
   "execution_count": 5,
   "metadata": {},
   "outputs": [],
   "source": [
    "notes = mid_obj.instruments[0].notes"
   ]
  },
  {
   "cell_type": "code",
   "execution_count": 6,
   "metadata": {},
   "outputs": [
    {
     "data": {
      "text/plain": [
       "[Note(start=0.000000, end=0.095833, pitch=83, velocity=74),\n",
       " Note(start=0.284375, end=0.386458, pitch=59, velocity=48),\n",
       " Note(start=0.277083, end=0.434375, pitch=83, velocity=74),\n",
       " Note(start=0.400000, end=0.472917, pitch=67, velocity=56),\n",
       " Note(start=0.511458, end=0.582292, pitch=62, velocity=56),\n",
       " Note(start=0.511458, end=0.617708, pitch=84, velocity=81),\n",
       " Note(start=0.617708, end=0.672917, pitch=67, velocity=60),\n",
       " Note(start=0.734375, end=0.827083, pitch=59, velocity=55),\n",
       " Note(start=0.729167, end=0.836458, pitch=85, velocity=81),\n",
       " Note(start=0.845833, end=0.915625, pitch=67, velocity=57),\n",
       " Note(start=0.957292, end=1.032292, pitch=62, velocity=56),\n",
       " Note(start=0.954167, end=1.032292, pitch=86, velocity=82),\n",
       " Note(start=1.063542, end=1.129167, pitch=67, velocity=57),\n",
       " Note(start=1.190625, end=1.286458, pitch=60, velocity=54),\n",
       " Note(start=1.184375, end=1.320833, pitch=86, velocity=81),\n",
       " Note(start=1.295833, end=1.363542, pitch=67, velocity=56),\n",
       " Note(start=1.397917, end=1.457292, pitch=76, velocity=74),\n",
       " Note(start=1.400000, end=1.465625, pitch=64, velocity=54),\n",
       " Note(start=1.500000, end=1.559375, pitch=67, velocity=57),\n",
       " Note(start=1.607292, end=1.702083, pitch=60, velocity=55),\n",
       " Note(start=1.607292, end=1.715625, pitch=77, velocity=75),\n",
       " Note(start=1.711458, end=1.784375, pitch=67, velocity=57),\n",
       " Note(start=1.711458, end=1.807292, pitch=78, velocity=75),\n",
       " Note(start=1.811458, end=1.884375, pitch=64, velocity=57),\n",
       " Note(start=1.811458, end=1.900000, pitch=79, velocity=76),\n",
       " Note(start=1.909375, end=1.975000, pitch=67, velocity=57),\n",
       " Note(start=1.911458, end=1.982292, pitch=80, velocity=76),\n",
       " Note(start=2.020833, end=2.079167, pitch=81, velocity=71),\n",
       " Note(start=2.025000, end=2.111458, pitch=57, velocity=53),\n",
       " Note(start=2.090625, end=2.152083, pitch=83, velocity=73),\n",
       " Note(start=2.125000, end=2.186458, pitch=66, velocity=55),\n",
       " Note(start=2.154167, end=2.213542, pitch=81, velocity=73),\n",
       " Note(start=2.222917, end=2.275000, pitch=80, velocity=73),\n",
       " Note(start=2.215625, end=2.290625, pitch=60, velocity=54),\n",
       " Note(start=2.282292, end=2.342708, pitch=81, velocity=76),\n",
       " Note(start=2.317708, end=2.379167, pitch=66, velocity=56),\n",
       " Note(start=2.342708, end=2.411458, pitch=83, velocity=74),\n",
       " Note(start=2.422917, end=2.511458, pitch=57, velocity=54),\n",
       " Note(start=2.420833, end=2.511458, pitch=84, velocity=77),\n",
       " Note(start=2.525000, end=2.595833, pitch=66, velocity=56),\n",
       " Note(start=2.627083, end=2.700000, pitch=60, velocity=55),\n",
       " Note(start=2.620833, end=2.704167, pitch=84, velocity=81),\n",
       " Note(start=2.725000, end=2.792708, pitch=66, velocity=54),\n",
       " Note(start=2.838542, end=2.957292, pitch=59, velocity=53),\n",
       " Note(start=2.961458, end=3.029167, pitch=66, velocity=53),\n",
       " Note(start=3.075000, end=3.147917, pitch=63, velocity=52),\n",
       " Note(start=2.827083, end=3.147917, pitch=84, velocity=80),\n",
       " Note(start=3.170833, end=3.254167, pitch=66, velocity=54),\n",
       " Note(start=3.284375, end=3.384375, pitch=75, velocity=70),\n",
       " Note(start=3.290625, end=3.386458, pitch=57, velocity=54),\n",
       " Note(start=3.395833, end=3.467708, pitch=63, velocity=55),\n",
       " Note(start=3.504167, end=3.575000, pitch=59, velocity=54),\n",
       " Note(start=3.500000, end=3.625000, pitch=71, velocity=71),\n",
       " Note(start=3.600000, end=3.672917, pitch=63, velocity=56),\n",
       " Note(start=3.720833, end=3.809375, pitch=55, velocity=55),\n",
       " Note(start=3.713542, end=3.809375, pitch=76, velocity=79),\n",
       " Note(start=3.832292, end=3.897917, pitch=64, velocity=55),\n",
       " Note(start=3.940625, end=4.009375, pitch=59, velocity=56),\n",
       " Note(start=3.934375, end=4.038542, pitch=76, velocity=79),\n",
       " Note(start=4.038542, end=4.102083, pitch=64, velocity=56),\n",
       " Note(start=4.150000, end=4.225000, pitch=78, velocity=81),\n",
       " Note(start=4.152083, end=4.252083, pitch=51, velocity=59),\n",
       " Note(start=4.261458, end=4.336458, pitch=59, velocity=56),\n",
       " Note(start=4.370833, end=4.434375, pitch=78, velocity=79),\n",
       " Note(start=4.370833, end=4.445833, pitch=54, velocity=60),\n",
       " Note(start=4.472917, end=4.545833, pitch=59, velocity=57),\n",
       " Note(start=4.595833, end=4.659375, pitch=81, velocity=77),\n",
       " Note(start=4.592708, end=4.695833, pitch=52, velocity=59),\n",
       " Note(start=4.672917, end=4.734375, pitch=79, velocity=76),\n",
       " Note(start=4.704167, end=4.782292, pitch=59, velocity=59),\n",
       " Note(start=4.736458, end=4.802083, pitch=81, velocity=77),\n",
       " Note(start=4.809375, end=4.863542, pitch=79, velocity=79),\n",
       " Note(start=4.802083, end=4.886458, pitch=55, velocity=59),\n",
       " Note(start=4.870833, end=4.938542, pitch=81, velocity=81),\n",
       " Note(start=4.902083, end=4.979167, pitch=59, velocity=60),\n",
       " Note(start=4.934375, end=5.009375, pitch=79, velocity=80),\n",
       " Note(start=5.011458, end=5.092708, pitch=78, velocity=86),\n",
       " Note(start=5.009375, end=5.111458, pitch=47, velocity=62),\n",
       " Note(start=5.125000, end=5.195833, pitch=59, velocity=61),\n",
       " Note(start=5.225000, end=5.304167, pitch=51, velocity=64),\n",
       " Note(start=5.225000, end=5.311458, pitch=83, velocity=89),\n",
       " Note(start=5.327083, end=5.395833, pitch=59, velocity=61),\n",
       " Note(start=5.440625, end=5.527083, pitch=48, velocity=64),\n",
       " Note(start=5.436458, end=5.527083, pitch=76, velocity=87),\n",
       " Note(start=5.545833, end=5.613542, pitch=59, velocity=64),\n",
       " Note(start=5.647917, end=5.715625, pitch=55, velocity=64),\n",
       " Note(start=5.647917, end=5.775000, pitch=76, velocity=90),\n",
       " Note(start=5.742708, end=5.815625, pitch=59, velocity=64),\n",
       " Note(start=5.859375, end=5.934375, pitch=84, velocity=90),\n",
       " Note(start=5.859375, end=5.940625, pitch=48, velocity=67),\n",
       " Note(start=5.975000, end=6.047917, pitch=57, velocity=60),\n",
       " Note(start=6.082292, end=6.152083, pitch=55, velocity=61),\n",
       " Note(start=6.079167, end=6.211458, pitch=84, velocity=92),\n",
       " Note(start=6.182292, end=6.259375, pitch=57, velocity=57),\n",
       " Note(start=6.307292, end=6.415625, pitch=47, velocity=66),\n",
       " Note(start=6.415625, end=6.484375, pitch=57, velocity=64),\n",
       " Note(start=6.520833, end=6.590625, pitch=54, velocity=66),\n",
       " Note(start=6.615625, end=6.686458, pitch=57, velocity=64),\n",
       " Note(start=6.300000, end=6.686458, pitch=75, velocity=84),\n",
       " Note(start=6.725000, end=6.820833, pitch=48, velocity=63),\n",
       " Note(start=6.711458, end=6.842708, pitch=76, velocity=79),\n",
       " Note(start=6.834375, end=6.907292, pitch=55, velocity=60),\n",
       " Note(start=6.932292, end=7.002083, pitch=52, velocity=63),\n",
       " Note(start=6.925000, end=7.092708, pitch=76, velocity=83),\n",
       " Note(start=7.025000, end=7.097917, pitch=55, velocity=62),\n",
       " Note(start=7.140625, end=7.236458, pitch=45, velocity=63),\n",
       " Note(start=7.140625, end=7.254167, pitch=78, velocity=83),\n",
       " Note(start=7.242708, end=7.322917, pitch=54, velocity=61),\n",
       " Note(start=7.350000, end=7.420833, pitch=48, velocity=66),\n",
       " Note(start=7.352083, end=7.420833, pitch=78, velocity=87),\n",
       " Note(start=7.447917, end=7.515625, pitch=54, velocity=64),\n",
       " Note(start=7.547917, end=7.638542, pitch=47, velocity=67),\n",
       " Note(start=7.557292, end=7.659375, pitch=76, velocity=82),\n",
       " Note(start=7.657292, end=7.736458, pitch=57, velocity=63),\n",
       " Note(start=7.657292, end=7.759375, pitch=75, velocity=81),\n",
       " Note(start=7.747917, end=7.847917, pitch=54, velocity=64),\n",
       " Note(start=7.752083, end=7.870833, pitch=73, velocity=83),\n",
       " Note(start=7.836458, end=7.925000, pitch=57, velocity=64),\n",
       " Note(start=7.840625, end=7.945833, pitch=71, velocity=83),\n",
       " Note(start=7.990625, end=8.092708, pitch=52, velocity=61),\n",
       " Note(start=7.997917, end=8.107292, pitch=55, velocity=62),\n",
       " Note(start=7.984375, end=8.197917, pitch=76, velocity=83),\n",
       " Note(start=8.429167, end=8.486458, pitch=40, velocity=63)]"
      ]
     },
     "execution_count": 6,
     "metadata": {},
     "output_type": "execute_result"
    }
   ],
   "source": [
    "notes"
   ]
  },
  {
   "cell_type": "code",
   "execution_count": 14,
   "metadata": {},
   "outputs": [
    {
     "data": {
      "text/plain": [
       "[ControlChange(number=67, value=58, time=0.457292),\n",
       " ControlChange(number=64, value=97, time=0.457292),\n",
       " ControlChange(number=67, value=70, time=1.220833),\n",
       " ControlChange(number=64, value=59, time=1.220833),\n",
       " ControlChange(number=64, value=82, time=1.263542),\n",
       " ControlChange(number=64, value=62, time=1.311458),\n",
       " ControlChange(number=67, value=73, time=1.372917),\n",
       " ControlChange(number=64, value=68, time=1.372917),\n",
       " ControlChange(number=64, value=20, time=1.395833),\n",
       " ControlChange(number=67, value=77, time=1.397917),\n",
       " ControlChange(number=64, value=64, time=1.425000),\n",
       " ControlChange(number=67, value=77, time=1.454167),\n",
       " ControlChange(number=64, value=69, time=1.454167),\n",
       " ControlChange(number=64, value=66, time=1.509375),\n",
       " ControlChange(number=64, value=80, time=1.861458),\n",
       " ControlChange(number=67, value=76, time=2.125000),\n",
       " ControlChange(number=64, value=72, time=2.125000),\n",
       " ControlChange(number=64, value=86, time=2.497917),\n",
       " ControlChange(number=67, value=70, time=2.820833),\n",
       " ControlChange(number=64, value=83, time=2.820833),\n",
       " ControlChange(number=64, value=89, time=3.345833),\n",
       " ControlChange(number=67, value=69, time=3.688542),\n",
       " ControlChange(number=64, value=68, time=3.688542),\n",
       " ControlChange(number=64, value=20, time=3.747917),\n",
       " ControlChange(number=64, value=82, time=3.965625),\n",
       " ControlChange(number=67, value=68, time=4.477083),\n",
       " ControlChange(number=64, value=90, time=4.477083),\n",
       " ControlChange(number=67, value=91, time=5.465625),\n",
       " ControlChange(number=64, value=42, time=5.465625),\n",
       " ControlChange(number=64, value=31, time=5.475000),\n",
       " ControlChange(number=67, value=95, time=5.545833),\n",
       " ControlChange(number=64, value=41, time=5.545833),\n",
       " ControlChange(number=64, value=29, time=5.567708),\n",
       " ControlChange(number=67, value=94, time=5.609375),\n",
       " ControlChange(number=64, value=33, time=5.609375),\n",
       " ControlChange(number=64, value=73, time=5.632292),\n",
       " ControlChange(number=64, value=20, time=5.650000),\n",
       " ControlChange(number=67, value=89, time=5.684375),\n",
       " ControlChange(number=64, value=24, time=5.684375),\n",
       " ControlChange(number=64, value=12, time=5.759375),\n",
       " ControlChange(number=67, value=87, time=5.813542),\n",
       " ControlChange(number=64, value=17, time=5.813542),\n",
       " ControlChange(number=64, value=5, time=5.897917),\n",
       " ControlChange(number=67, value=86, time=5.947917),\n",
       " ControlChange(number=64, value=13, time=5.947917),\n",
       " ControlChange(number=64, value=5, time=6.036458),\n",
       " ControlChange(number=67, value=85, time=6.079167),\n",
       " ControlChange(number=64, value=12, time=6.079167),\n",
       " ControlChange(number=64, value=7, time=6.172917),\n",
       " ControlChange(number=67, value=85, time=6.209375),\n",
       " ControlChange(number=64, value=12, time=6.209375),\n",
       " ControlChange(number=64, value=11, time=6.307292),\n",
       " ControlChange(number=67, value=85, time=6.336458),\n",
       " ControlChange(number=64, value=14, time=6.442708),\n",
       " ControlChange(number=67, value=84, time=6.459375),\n",
       " ControlChange(number=67, value=80, time=6.570833),\n",
       " ControlChange(number=64, value=17, time=6.575000),\n",
       " ControlChange(number=64, value=19, time=6.704167),\n",
       " ControlChange(number=67, value=70, time=6.729167),\n",
       " ControlChange(number=64, value=28, time=7.129167),\n",
       " ControlChange(number=67, value=62, time=7.932292),\n",
       " ControlChange(number=64, value=64, time=7.932292),\n",
       " ControlChange(number=64, value=38, time=8.640625),\n",
       " ControlChange(number=67, value=70, time=8.767708),\n",
       " ControlChange(number=64, value=31, time=8.767708),\n",
       " ControlChange(number=64, value=28, time=8.797917),\n",
       " ControlChange(number=67, value=74, time=8.832292),\n",
       " ControlChange(number=64, value=31, time=8.832292),\n",
       " ControlChange(number=64, value=30, time=8.884375),\n",
       " ControlChange(number=67, value=75, time=8.900000),\n",
       " ControlChange(number=64, value=28, time=8.963542),\n",
       " ControlChange(number=67, value=68, time=9.002083),\n",
       " ControlChange(number=64, value=29, time=9.002083),\n",
       " ControlChange(number=64, value=33, time=9.161458),\n",
       " ControlChange(number=67, value=65, time=9.232292),\n",
       " ControlChange(number=64, value=31, time=9.232292),\n",
       " ControlChange(number=64, value=31, time=9.425000),\n",
       " ControlChange(number=67, value=62, time=9.488542),\n",
       " ControlChange(number=64, value=31, time=9.488542),\n",
       " ControlChange(number=64, value=32, time=9.686458),\n",
       " ControlChange(number=67, value=60, time=9.747917),\n",
       " ControlChange(number=64, value=31, time=9.747917),\n",
       " ControlChange(number=64, value=34, time=9.938542),\n",
       " ControlChange(number=67, value=58, time=10.011458),\n",
       " ControlChange(number=64, value=32, time=10.011458),\n",
       " ControlChange(number=64, value=42, time=10.211458),\n",
       " ControlChange(number=67, value=57, time=10.270833),\n",
       " ControlChange(number=64, value=33, time=10.270833),\n",
       " ControlChange(number=64, value=43, time=10.477083),\n",
       " ControlChange(number=67, value=56, time=10.517708),\n",
       " ControlChange(number=64, value=39, time=10.517708),\n",
       " ControlChange(number=64, value=43, time=10.732292),\n",
       " ControlChange(number=67, value=55, time=10.775000),\n",
       " ControlChange(number=64, value=44, time=10.775000),\n",
       " ControlChange(number=64, value=43, time=10.950000),\n",
       " ControlChange(number=67, value=55, time=11.082292),\n",
       " ControlChange(number=64, value=54, time=11.082292),\n",
       " ControlChange(number=64, value=58, time=11.742708),\n",
       " ControlChange(number=67, value=57, time=11.915625),\n",
       " ControlChange(number=64, value=60, time=11.915625),\n",
       " ControlChange(number=64, value=74, time=11.954167),\n",
       " ControlChange(number=64, value=76, time=11.984375),\n",
       " ControlChange(number=67, value=58, time=12.027083),\n",
       " ControlChange(number=64, value=78, time=12.027083),\n",
       " ControlChange(number=64, value=79, time=12.077083),\n",
       " ControlChange(number=67, value=59, time=12.079167),\n",
       " ControlChange(number=67, value=54, time=12.229167),\n",
       " ControlChange(number=64, value=74, time=12.229167),\n",
       " ControlChange(number=64, value=61, time=12.325000),\n",
       " ControlChange(number=67, value=54, time=12.332292),\n",
       " ControlChange(number=64, value=58, time=12.436458),\n",
       " ControlChange(number=67, value=53, time=12.495833),\n",
       " ControlChange(number=64, value=62, time=12.495833),\n",
       " ControlChange(number=64, value=69, time=12.613542),\n",
       " ControlChange(number=67, value=51, time=12.642708),\n",
       " ControlChange(number=67, value=47, time=12.763542),\n",
       " ControlChange(number=64, value=76, time=12.763542),\n",
       " ControlChange(number=67, value=44, time=12.875000),\n",
       " ControlChange(number=64, value=84, time=12.875000),\n",
       " ControlChange(number=64, value=82, time=12.917708),\n",
       " ControlChange(number=67, value=40, time=12.984375),\n",
       " ControlChange(number=64, value=87, time=12.984375),\n",
       " ControlChange(number=64, value=86, time=13.079167),\n",
       " ControlChange(number=67, value=37, time=13.122917),\n",
       " ControlChange(number=64, value=92, time=13.122917),\n",
       " ControlChange(number=64, value=89, time=13.247917),\n",
       " ControlChange(number=67, value=32, time=13.367708),\n",
       " ControlChange(number=64, value=87, time=13.395833),\n",
       " ControlChange(number=64, value=79, time=13.888542),\n",
       " ControlChange(number=67, value=22, time=14.613542),\n",
       " ControlChange(number=64, value=96, time=14.613542)]"
      ]
     },
     "execution_count": 14,
     "metadata": {},
     "output_type": "execute_result"
    }
   ],
   "source": [
    "mid_obj.instruments[0].control_changes"
   ]
  },
  {
   "cell_type": "code",
   "execution_count": 18,
   "metadata": {},
   "outputs": [
    {
     "name": "stdout",
     "output_type": "stream",
     "text": [
      "220\n",
      "220\n",
      "220\n"
     ]
    }
   ],
   "source": [
    "midi_17 = Path('../resources/midi/subpieces') / \"Haydn_Hob.XVI34_3-17.mid\"\n",
    "midi_18 = Path('../resources/midi/subpieces') / \"Haydn_Hob.XVI34_3-18.mid\"\n",
    "midi_19 = Path('../resources/midi/subpieces') / \"Haydn_Hob.XVI34_3-19.mid\"\n",
    "\n",
    "print(mido.MidiFile(midi_17.as_posix()).ticks_per_beat)\n",
    "print(mido.MidiFile(midi_18.as_posix()).ticks_per_beat)\n",
    "print(mido.MidiFile(midi_19.as_posix()).ticks_per_beat)"
   ]
  }
 ],
 "metadata": {
  "interpreter": {
   "hash": "4d740a43d1255cbc9bda06d15f9f05180934a4729b93489fe9d1a087f7e4228c"
  },
  "kernelspec": {
   "display_name": "Python 3.9.10 ('imp')",
   "language": "python",
   "name": "python3"
  },
  "language_info": {
   "codemirror_mode": {
    "name": "ipython",
    "version": 3
   },
   "file_extension": ".py",
   "mimetype": "text/x-python",
   "name": "python",
   "nbconvert_exporter": "python",
   "pygments_lexer": "ipython3",
   "version": "3.9.10"
  },
  "orig_nbformat": 4
 },
 "nbformat": 4,
 "nbformat_minor": 2
}
