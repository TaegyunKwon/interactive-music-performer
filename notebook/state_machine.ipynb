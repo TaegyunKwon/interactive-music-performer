{
 "cells": [
  {
   "cell_type": "code",
   "execution_count": 7,
   "metadata": {},
   "outputs": [
    {
     "name": "stdout",
     "output_type": "stream",
     "text": [
      "/Users/june/workspace/interactive-music-performer/notebook\n"
     ]
    }
   ],
   "source": [
    "!pwd"
   ]
  },
  {
   "cell_type": "code",
   "execution_count": 9,
   "metadata": {},
   "outputs": [],
   "source": [
    "from transitions.extensions import GraphMachine\n",
    "from collections import deque\n",
    "from dataclasses import dataclass\n",
    "import librosa\n",
    "from transitions import Machine\n",
    "import time\n",
    "\n",
    "HUMAN_PLAYER = \"Pianist\"\n",
    "@dataclass\n",
    "class Schedule:\n",
    "    player: str\n",
    "    subpiece: str\n"
   ]
  },
  {
   "cell_type": "code",
   "execution_count": 20,
   "metadata": {},
   "outputs": [],
   "source": [
    "\n",
    "\n",
    "class InteractivePerformer:\n",
    "    states = [\"asleep\", \"following\", \"playing\"]\n",
    "\n",
    "    def __init__(self, piece, oltw):\n",
    "        self.piece = piece\n",
    "        self.oltw = oltw\n",
    "        # self.schedules = deque(\n",
    "        #     Schedule(player=s.player, subpiece=s.subpiece) for s in piece.schedules\n",
    "        # )\n",
    "        # self.current_schedule: Schedule = self.schedules.popleft()\n",
    "        # self.current_player = self.current_schedule.player\n",
    "        # self.current_subpiece = self.current_schedule.subpiece\n",
    "\n",
    "        self.machine = GraphMachine(\n",
    "            model=self, states=InteractivePerformer.states, initial=\"asleep\"\n",
    "        )\n",
    "        self.machine.add_transition(\n",
    "            trigger=\"start_performance\",\n",
    "            source=\"asleep\",\n",
    "            dest=\"following\",\n",
    "            conditions=\"is_human_pianist_playing\",\n",
    "            after=\"start_following\",\n",
    "        )\n",
    "        self.machine.add_transition(\n",
    "            trigger=\"move_to_next\",\n",
    "            source=[\"following\"],\n",
    "            dest=\"playing\",\n",
    "            unless=\"is_human_pianist_playing\",\n",
    "            before=\"cleanup_following\",\n",
    "            after=\"start_playing\",\n",
    "        )\n",
    "        self.machine.add_transition(\n",
    "            trigger=\"move_to_next\",\n",
    "            source=[\"playing\"],\n",
    "            dest=\"following\",\n",
    "            conditions=\"is_human_pianist_playing\",\n",
    "            after=\"start_following\",\n",
    "        )\n",
    "        self.machine.add_transition(\n",
    "            trigger=\"start_performance\",\n",
    "            source=\"asleep\",\n",
    "            dest=\"playing\",\n",
    "            unless=\"is_human_pianist_playing\",\n",
    "            after=\"start_playing\",\n",
    "        )\n",
    "        self.machine.add_transition(\n",
    "            trigger=\"stop_performance\",\n",
    "            source=[\"following\", \"playing\"],\n",
    "            dest=\"asleep\",\n",
    "            before=\"force_quit\",\n",
    "        )\n",
    "        self.current_timestamp = 0\n",
    "        self.force_quit_flag = False\n",
    "        print(\"initialize end!\")\n",
    "\n",
    "    def is_human_pianist_playing(self):\n",
    "        return self.current_player == HUMAN_PLAYER\n",
    "\n",
    "    def switch(self):\n",
    "        if not self.schedules or self.force_quit_flag:\n",
    "            print(\"stop performance!\")\n",
    "            self.stop_performance()\n",
    "            return\n",
    "\n",
    "        self.current_schedule = self.schedules.popleft()\n",
    "        self.current_player = self.current_schedule.player\n",
    "        self.current_subpiece: SubPiece = self.current_schedule.subpiece\n",
    "\n",
    "        self.move_to_next()  # trigger\n",
    "\n",
    "    def cleanup_following(self):\n",
    "        print(f\"cleanup following!, current subpiece: {self.current_subpiece}\")\n",
    "        self.oltw.cleanup()\n",
    "\n",
    "    def start_following(self):\n",
    "        self.force_quit_flag = False\n",
    "        print(f\"start following!, current subpiece: {self.current_subpiece}\")\n",
    "\n",
    "        current_subpiece_audio_path = get_audio_path_from_midi_path(\n",
    "            self.current_subpiece.path\n",
    "        )\n",
    "        duration = librosa.get_duration(filename=current_subpiece_audio_path)\n",
    "\n",
    "        # replace alignment\n",
    "        # self.oltw.run()\n",
    "        time.sleep(duration)\n",
    "\n",
    "        print(\"switch player!\")\n",
    "        self.switch()\n",
    "\n",
    "    def start_playing(self):\n",
    "        self.force_quit_flag = False\n",
    "        print(f\"start_playing!, current subpiece: {self.current_subpiece}\")\n",
    "        midi = get_midi_from_piece(self.current_subpiece)\n",
    "        print(f\"play {self.current_subpiece} start\")\n",
    "        midi_port.send(midi)\n",
    "        print(f\"play {self.current_subpiece} end\")\n",
    "\n",
    "        self.switch()\n",
    "\n",
    "    def force_quit(self):\n",
    "        self.force_quit_flag = True\n",
    "        self.cleanup_following()\n",
    "        self.schedules = deque(\n",
    "            Schedule(player=s.player, subpiece=s.subpiece) for s in self.piece.schedules\n",
    "        )\n",
    "        self.current_schedule: Schedule = self.schedules.popleft()\n",
    "        self.current_player = self.current_schedule.player\n",
    "        self.current_subpiece = self.current_schedule.subpiece\n",
    "        print(\"force quit & cleanup completed.\")"
   ]
  },
  {
   "cell_type": "code",
   "execution_count": 21,
   "metadata": {},
   "outputs": [
    {
     "name": "stdout",
     "output_type": "stream",
     "text": [
      "initialize end!\n"
     ]
    }
   ],
   "source": [
    "imp = InteractivePerformer(None, None)"
   ]
  },
  {
   "cell_type": "code",
   "execution_count": 19,
   "metadata": {},
   "outputs": [],
   "source": [
    "imp.get_graph().draw('my_state_diagram.png', prog='dot')"
   ]
  }
 ],
 "metadata": {
  "interpreter": {
   "hash": "4d740a43d1255cbc9bda06d15f9f05180934a4729b93489fe9d1a087f7e4228c"
  },
  "kernelspec": {
   "display_name": "Python 3.9.10 ('imp')",
   "language": "python",
   "name": "python3"
  },
  "language_info": {
   "codemirror_mode": {
    "name": "ipython",
    "version": 3
   },
   "file_extension": ".py",
   "mimetype": "text/x-python",
   "name": "python",
   "nbconvert_exporter": "python",
   "pygments_lexer": "ipython3",
   "version": "3.9.10"
  },
  "orig_nbformat": 4
 },
 "nbformat": 4,
 "nbformat_minor": 2
}
